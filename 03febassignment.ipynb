{
 "cells": [
  {
   "cell_type": "code",
   "execution_count": 1,
   "id": "7be35eea-d2e1-4025-af47-b1cd951f7778",
   "metadata": {},
   "outputs": [],
   "source": [
    "##Which keyword is used to create a function? Create a function to return a list of odd numbers in the\n",
    "##range of 1 to 25.##"
   ]
  },
  {
   "cell_type": "code",
   "execution_count": 13,
   "id": "c9cd8a10-bad6-4138-be49-8729c09cdc8b",
   "metadata": {},
   "outputs": [
    {
     "data": {
      "text/plain": [
       "'def keyword is used to create a function'"
      ]
     },
     "execution_count": 13,
     "metadata": {},
     "output_type": "execute_result"
    }
   ],
   "source": [
    "'''def keyword is used to create a function'''"
   ]
  },
  {
   "cell_type": "code",
   "execution_count": 18,
   "id": "9e987b52-abd5-4d54-9260-1f866550357d",
   "metadata": {},
   "outputs": [
    {
     "name": "stdout",
     "output_type": "stream",
     "text": [
      "[1, 3, 5, 7, 9, 11, 13, 15, 17, 19, 21, 23]\n"
     ]
    }
   ],
   "source": [
    "def odd_no():\n",
    "    odd=[]\n",
    "    for i in range(1,25):\n",
    "        if i%2!=0:\n",
    "            odd.append(i)\n",
    "    return odd\n",
    "print(odd_no())\n",
    "\n",
    "    "
   ]
  },
  {
   "cell_type": "code",
   "execution_count": 19,
   "id": "2221eb02-dccf-4e85-a487-6b6f742aab1a",
   "metadata": {},
   "outputs": [],
   "source": [
    "###Why *args and **kwargs is used in some functions? Create a function each for *args and **kwargs\n",
    "###to demonstrate their use.###"
   ]
  },
  {
   "cell_type": "code",
   "execution_count": 20,
   "id": "df70131c-9c6d-4c22-a6f9-c4b830a44f23",
   "metadata": {},
   "outputs": [
    {
     "data": {
      "text/plain": [
       "'*kwargs function is used in the form of key values and the type function format is dictionary'"
      ]
     },
     "execution_count": 20,
     "metadata": {},
     "output_type": "execute_result"
    }
   ],
   "source": [
    "'''*args function is used as dynamic function to execute the value we allow to input the value by user'''\n",
    "'''*kwargs function is used in the form of key values and the type function format is dictionary'''\n"
   ]
  },
  {
   "cell_type": "code",
   "execution_count": 27,
   "id": "456d7970-bf9e-4a53-ac36-86a1202f0907",
   "metadata": {},
   "outputs": [],
   "source": [
    "def test(*args):\n",
    "    return args"
   ]
  },
  {
   "cell_type": "code",
   "execution_count": 3,
   "id": "9be04020-b6cf-49e4-b29c-ab96d1b7d96b",
   "metadata": {},
   "outputs": [],
   "source": [
    "def test(*args):\n",
    "    return args"
   ]
  },
  {
   "cell_type": "code",
   "execution_count": 4,
   "id": "709abc6b-b8ec-4988-bec6-d9a5bd0f8182",
   "metadata": {},
   "outputs": [
    {
     "data": {
      "text/plain": [
       "<function __main__.test(*args)>"
      ]
     },
     "execution_count": 4,
     "metadata": {},
     "output_type": "execute_result"
    }
   ],
   "source": [
    "test"
   ]
  },
  {
   "cell_type": "code",
   "execution_count": 5,
   "id": "70e7a94a-89b9-42c4-af17-0857179a5478",
   "metadata": {},
   "outputs": [
    {
     "data": {
      "text/plain": [
       "()"
      ]
     },
     "execution_count": 5,
     "metadata": {},
     "output_type": "execute_result"
    }
   ],
   "source": [
    "test()"
   ]
  },
  {
   "cell_type": "code",
   "execution_count": 6,
   "id": "1f70edc1-7f80-41e9-a6d2-4c145f87b12b",
   "metadata": {},
   "outputs": [
    {
     "data": {
      "text/plain": [
       "(1, 2, 4, 5, 6, 'nilo')"
      ]
     },
     "execution_count": 6,
     "metadata": {},
     "output_type": "execute_result"
    }
   ],
   "source": [
    "test(1,2,4,5,6,'nilo')"
   ]
  },
  {
   "cell_type": "code",
   "execution_count": 7,
   "id": "d559a53d-a419-4428-a671-7f547fa8c6cd",
   "metadata": {},
   "outputs": [],
   "source": [
    "def test1(**kwargs):\n",
    "    return kwargs"
   ]
  },
  {
   "cell_type": "code",
   "execution_count": 8,
   "id": "3717e1bb-ac58-4f7c-8f7c-259a6ac17af0",
   "metadata": {},
   "outputs": [
    {
     "data": {
      "text/plain": [
       "<function __main__.test1(**kwargs)>"
      ]
     },
     "execution_count": 8,
     "metadata": {},
     "output_type": "execute_result"
    }
   ],
   "source": [
    "test1"
   ]
  },
  {
   "cell_type": "code",
   "execution_count": 10,
   "id": "572d5f6d-313e-4d39-bb2a-246c416b96f8",
   "metadata": {},
   "outputs": [
    {
     "data": {
      "text/plain": [
       "{'a': (1, 23, 55), 'b': 'nilo'}"
      ]
     },
     "execution_count": 10,
     "metadata": {},
     "output_type": "execute_result"
    }
   ],
   "source": [
    "test1(a=(1,23,55),b='nilo')"
   ]
  },
  {
   "cell_type": "code",
   "execution_count": 2,
   "id": "19e2a9d0-0fc4-4b7c-b001-16b4934bb870",
   "metadata": {},
   "outputs": [
    {
     "data": {
      "text/plain": [
       "'An iterator in Python is an object that implements the iterator protocol, which consists of the methods __iter__() and __next__(). The __iter__ method returns the iterator object itself, and the __next__ method returns the next value from the iterat'"
      ]
     },
     "execution_count": 2,
     "metadata": {},
     "output_type": "execute_result"
    }
   ],
   "source": [
    "'''An iterator in Python is an object that implements the iterator protocol, which consists of the methods __iter__() and __next__(). The __iter__ method returns the iterator object itself, and the __next__ method returns the next value from the iterat'''"
   ]
  },
  {
   "cell_type": "code",
   "execution_count": 3,
   "id": "7408eff0-4812-4dcc-9482-0283eb1dd6b0",
   "metadata": {},
   "outputs": [],
   "source": [
    "l=[2,4,6,8,10,12,14,16,18,20]               "
   ]
  },
  {
   "cell_type": "code",
   "execution_count": 4,
   "id": "fb762cf5-318a-4f0a-b4f7-4643c0033903",
   "metadata": {},
   "outputs": [
    {
     "data": {
      "text/plain": [
       "[2, 4, 6, 8, 10, 12, 14, 16, 18, 20]"
      ]
     },
     "execution_count": 4,
     "metadata": {},
     "output_type": "execute_result"
    }
   ],
   "source": [
    "l"
   ]
  },
  {
   "cell_type": "code",
   "execution_count": 12,
   "id": "378b86a9-61bc-4690-8617-45c8490939cf",
   "metadata": {},
   "outputs": [],
   "source": [
    "def test():\n",
    "    return l"
   ]
  },
  {
   "cell_type": "code",
   "execution_count": 13,
   "id": "b00de987-617e-42e7-aa70-9c279b9dfa12",
   "metadata": {},
   "outputs": [
    {
     "data": {
      "text/plain": [
       "[2, 4, 6, 8, 10, 12, 14, 16, 18, 20]"
      ]
     },
     "execution_count": 13,
     "metadata": {},
     "output_type": "execute_result"
    }
   ],
   "source": [
    "test()\n"
   ]
  },
  {
   "cell_type": "code",
   "execution_count": null,
   "id": "1009de0c-cc1d-4db6-855a-d0b4ac3df696",
   "metadata": {},
   "outputs": [],
   "source": [
    "def test():\n",
    "    return l"
   ]
  },
  {
   "cell_type": "code",
   "execution_count": 14,
   "id": "6c1793ff-7921-46b8-b07a-a15d57f3f552",
   "metadata": {},
   "outputs": [
    {
     "data": {
      "text/plain": [
       "[2, 4, 6, 8, 10, 12, 14, 16, 18, 20]"
      ]
     },
     "execution_count": 14,
     "metadata": {},
     "output_type": "execute_result"
    }
   ],
   "source": [
    "test()"
   ]
  },
  {
   "cell_type": "code",
   "execution_count": 4,
   "id": "d0e48728-3f83-48f7-a04a-48b620e3d11a",
   "metadata": {},
   "outputs": [],
   "source": [
    "l2=[2, 4, 6, 8, 10, 12, 14, 16, 18, 20]"
   ]
  },
  {
   "cell_type": "code",
   "execution_count": 5,
   "id": "eac8e34e-7153-4795-a2fb-9c7b8c0b4cbb",
   "metadata": {},
   "outputs": [
    {
     "data": {
      "text/plain": [
       "[2, 4, 6, 8, 10, 12, 14, 16, 18, 20]"
      ]
     },
     "execution_count": 5,
     "metadata": {},
     "output_type": "execute_result"
    }
   ],
   "source": [
    "l2"
   ]
  },
  {
   "cell_type": "code",
   "execution_count": 8,
   "id": "ce681650-9543-45d9-9006-49002cbb459c",
   "metadata": {},
   "outputs": [
    {
     "data": {
      "text/plain": [
       "range(0, 10, 2)"
      ]
     },
     "execution_count": 8,
     "metadata": {},
     "output_type": "execute_result"
    }
   ],
   "source": [
    "range(0,len(l2),2)\n",
    "\n",
    "\n"
   ]
  },
  {
   "cell_type": "code",
   "execution_count": 26,
   "id": "0a0abf7d-b5e0-419f-841d-d231e29260fc",
   "metadata": {},
   "outputs": [
    {
     "data": {
      "text/plain": [
       "'A generator function in Python is a special type of function that returns a generator iterator, which can be used to traverse through a sequence of values. The yield keyword is used in a generator function to return a value, but unlike a regular function, it does not terminate the function. Instead, it suspends the function execution and retains its state, allowing the function to be resumed from where it left off the next time it is called'"
      ]
     },
     "execution_count": 26,
     "metadata": {},
     "output_type": "execute_result"
    }
   ],
   "source": [
    "'''A generator function in Python is a special type of function that returns a generator iterator, which can be used to traverse through a sequence of values. The yield keyword is used in a generator function to return a value, but unlike a regular function, it does not terminate the function. Instead, it suspends the function execution and retains its state, allowing the function to be resumed from where it left off the next time it is called'''"
   ]
  },
  {
   "cell_type": "code",
   "execution_count": 27,
   "id": "47a37343-1d54-4d46-9b35-4f30519df4bc",
   "metadata": {},
   "outputs": [
    {
     "name": "stdout",
     "output_type": "stream",
     "text": [
      "0\n",
      "1\n",
      "1\n",
      "2\n",
      "3\n"
     ]
    }
   ],
   "source": [
    "def fibonacci(n):\n",
    "    a, b = 0, 1\n",
    "    for i in range(n):\n",
    "        yield a\n",
    "        a, b = b, a + b\n",
    "\n",
    "for number in fibonacci(5):\n",
    "    print(number)"
   ]
  },
  {
   "cell_type": "code",
   "execution_count": 28,
   "id": "fad7c3b9-9ad5-4fe5-8ae1-7130696ee33b",
   "metadata": {},
   "outputs": [
    {
     "name": "stdout",
     "output_type": "stream",
     "text": [
      "2\n",
      "3\n",
      "5\n",
      "7\n",
      "11\n",
      "13\n",
      "17\n",
      "19\n",
      "23\n",
      "29\n",
      "31\n",
      "37\n",
      "41\n",
      "43\n",
      "47\n",
      "53\n",
      "59\n",
      "61\n",
      "67\n",
      "71\n"
     ]
    }
   ],
   "source": [
    "def prime_numbers(limit):\n",
    "    for number in range(2, limit):\n",
    "        for i in range(2, int(number ** 0.5) + 1):\n",
    "            if number % i == 0:\n",
    "                break\n",
    "        else:\n",
    "            yield number\n",
    "\n",
    "prime_gen = prime_numbers(1000)\n",
    "\n",
    "for i in range(20):\n",
    "    print(next(prime_gen))"
   ]
  },
  {
   "cell_type": "code",
   "execution_count": 33,
   "id": "94f47b99-a9fd-4949-9657-8a7534d748d0",
   "metadata": {},
   "outputs": [
    {
     "name": "stdin",
     "output_type": "stream",
     "text": [
      "enter the no 10\n"
     ]
    },
    {
     "name": "stdout",
     "output_type": "stream",
     "text": [
      "0\n",
      "1\n",
      "1\n",
      "2\n",
      "3\n",
      "5\n",
      "8\n",
      "13\n",
      "21\n",
      "34\n"
     ]
    }
   ],
   "source": [
    "no= int(input('enter the no'))\n",
    "a=0\n",
    "b=1\n",
    "counter=0\n",
    "while counter<no:\n",
    "    print (a)\n",
    "    c=a+b\n",
    "    a=b\n",
    "    b=c\n",
    "    counter=counter+1"
   ]
  },
  {
   "cell_type": "code",
   "execution_count": null,
   "id": "3f00cba8-8c90-444f-86f9-84f38639be49",
   "metadata": {},
   "outputs": [],
   "source": [
    "\n"
   ]
  },
  {
   "cell_type": "code",
   "execution_count": 42,
   "id": "efd5b5e6-96b0-456d-aac8-7a352fe13c2f",
   "metadata": {},
   "outputs": [],
   "source": []
  },
  {
   "cell_type": "code",
   "execution_count": 76,
   "id": "71042ef9-15b5-4a83-8b6e-d03a468e0655",
   "metadata": {},
   "outputs": [
    {
     "name": "stdout",
     "output_type": "stream",
     "text": [
      "['p', 'w', 's', 'k', 'i', 'l', 'l', 's']\n"
     ]
    }
   ],
   "source": [
    "l = 'pwskills'\n",
    "result = [i for i in l]\n",
    "print(result)"
   ]
  },
  {
   "cell_type": "code",
   "execution_count": 53,
   "id": "5e92b4db-56e9-4326-9318-b74667ef99f1",
   "metadata": {},
   "outputs": [
    {
     "name": "stdout",
     "output_type": "stream",
     "text": [
      "[1, 3, 5, 7, 9, 11, 13, 15, 17, 19, 21, 23, 25, 27, 29, 31, 33, 35, 37, 39, 41, 43, 45, 47, 49, 51, 53, 55, 57, 59, 61, 63, 65, 67, 69, 71, 73, 75, 77, 79, 81, 83, 85, 87, 89, 91, 93, 95, 97, 99]\n"
     ]
    }
   ],
   "source": [
    "l=list(range(1,100))\n",
    "result=[i for i in range(1,100) if i % 2!=0]\n",
    "print(result)"
   ]
  },
  {
   "cell_type": "code",
   "execution_count": null,
   "id": "113a8053-721f-4c96-9a68-3a0f5f7ae611",
   "metadata": {},
   "outputs": [],
   "source": [
    "l2=[2,4,6,8,10,12,14,16,18,20]"
   ]
  },
  {
   "cell_type": "code",
   "execution_count": 9,
   "id": "b217a4f9-aa54-4a1c-a9c2-a6715c23d471",
   "metadata": {},
   "outputs": [
    {
     "data": {
      "text/plain": [
       "10"
      ]
     },
     "execution_count": 9,
     "metadata": {},
     "output_type": "execute_result"
    }
   ],
   "source": [
    "len(l2)"
   ]
  },
  {
   "cell_type": "code",
   "execution_count": 20,
   "id": "71ffd5b3-6498-4ab1-983a-464fcdf43c90",
   "metadata": {},
   "outputs": [
    {
     "name": "stdout",
     "output_type": "stream",
     "text": [
      "2\n",
      "4\n",
      "6\n",
      "8\n",
      "10\n"
     ]
    }
   ],
   "source": [
    "l2=[2,4,6,8,10,12,14,16,18,20]\n",
    "l3=iter(l2)\n",
    "for i in range (5):\n",
    "    print(next(l3))"
   ]
  },
  {
   "cell_type": "code",
   "execution_count": null,
   "id": "999444d4-1e3d-442e-873c-8a492bbf94bc",
   "metadata": {},
   "outputs": [],
   "source": []
  }
 ],
 "metadata": {
  "kernelspec": {
   "display_name": "Python 3 (ipykernel)",
   "language": "python",
   "name": "python3"
  },
  "language_info": {
   "codemirror_mode": {
    "name": "ipython",
    "version": 3
   },
   "file_extension": ".py",
   "mimetype": "text/x-python",
   "name": "python",
   "nbconvert_exporter": "python",
   "pygments_lexer": "ipython3",
   "version": "3.10.8"
  }
 },
 "nbformat": 4,
 "nbformat_minor": 5
}
